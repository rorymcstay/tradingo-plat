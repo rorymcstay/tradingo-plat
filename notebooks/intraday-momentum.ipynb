{
 "cells": [
  {
   "cell_type": "code",
   "execution_count": null,
   "id": "b07061fe-4f59-4dca-8f32-1e41527a3754",
   "metadata": {},
   "outputs": [],
   "source": [
    "%load_ext autoreload\n",
    "%autoreload 2\n",
    "\n",
    "import pandas as pd\n",
    "import numpy as np\n",
    "import yfinance as yf\n",
    "from tradingo.api import Tradingo\n",
    "from tradingo import backtest\n",
    "from tradingo import analytics\n",
    "from tradingo import signals\n",
    "from tradingo.portfolio import position_from_trades\n",
    "from tradingo.sampling import get_ig_service\n",
    "from tradingo.plotting import plot_multi\n",
    "from tradingo import signals\n",
    "import pandas_market_calendars as pmc\n",
    "import yfinance as yf\n",
    "from datetime import time\n",
    "import warnings\n",
    "\n",
    "warnings.simplefilter(action=\"ignore\", category=FutureWarning)\n",
    "\n",
    "# pd.options.plotting.backend = 'plotly'\n",
    "\n",
    "pd.options.plotting.backend = 'matplotlib'\n",
    "# t = Tradingo(name=\"etft\", uri=\"s3://s3.us-east-1.amazonaws.com:tradingo-store?aws_auth=true&path_prefix=prod\", provider=\"ig-trading\", universe='igtrading')\n",
    "t = Tradingo(name=\"etft\", uri=\"lmdb:///home/rory/dev/airflow/test/arctic.db\", provider=\"ig-trading\", universe='im-assets')"
   ]
  },
  {
   "cell_type": "code",
   "execution_count": null,
   "id": "2c741659-2585-4296-82b9-9aaa21a0e42a",
   "metadata": {},
   "outputs": [],
   "source": [
    "vix = yf.download(\"^VIX\", start=\"2017-01-01\", end=\"2024-10-18\")"
   ]
  },
  {
   "cell_type": "code",
   "execution_count": null,
   "id": "85a98241-7d19-4789-8656-58ccd10d93e6",
   "metadata": {},
   "outputs": [],
   "source": [
    "vixsignal = (vix.ewm(12).mean().Close - vix.ewm(60).mean().Close)#.where(vix.abs() < 10, 10 * np.sign(vix))\n",
    "vixsignal = vixsignal.where(vixsignal < 10, 10 * np.sign(vixsignal)).where(vixsignal.abs() > 2, 0).shift().tz_localize('utc').reindex(bt_all.index, method='nearest').ffill()"
   ]
  },
  {
   "cell_type": "code",
   "execution_count": null,
   "id": "ecf1b5dc-1439-4c95-8cd2-c1e1079549c3",
   "metadata": {},
   "outputs": [],
   "source": [
    "%pdb on\n",
    "import matplotlib.pyplot as plt\n",
    "\n",
    "all_signals = signals.intraday_momentum(\n",
    "    universe='im-assets',\n",
    "    provider='ig-trading',\n",
    "    dry_run=True,\n",
    "    start_date=pd.Timestamp(\"2017-01-01 00:00:00+00:00\"),\n",
    "    end_date=pd.Timestamp(\"2024-10-15 15:00:00+00:00\"),\n",
    "    threshold=1,\n",
    "    cap=2,\n",
    "    close_offset_periods=0,\n",
    "    arctic=t,\n",
    "    monotonic = True,\n",
    ").fillna(0.0)\n",
    "\n",
    "all_signals.index.name = \"DateTime\"\n",
    "signal = all_signals[\"signals/intraday_momentum\"]\n",
    "\n",
    "# avg_spread = (0.5 - (t.prices.ask.close() - t.prices.bid.close()).reindex(all_signals.index).resample(pd.offsets.BDay(1)).median().replace(0.0, np.nan).ffill().rolling(6).mean())\n",
    "\n",
    "position = ((\n",
    "    1\n",
    "    * vixsignal\n",
    "    # * np.sign(avg_spread.shift()).reindex(all_signals.index, method='nearest').ffill().transpose()\n",
    "    * -1\n",
    "    # * vix_indicator().reindex(close.index, method='ffill')\n",
    "    * signal.ffill().fillna(0.0).transpose()\n",
    "    ).transpose()\n",
    "    # .reindex_like(t.portfolio.intraday.rounded.position(), method='ffill')\n",
    "    .fillna(0.0).round()\n",
    ")\n",
    "\n",
    "position = position * pd.Series({\"CC.D.NG.UMP.IP\": 500, \"IX.D.SPTRD.IFS.IP\": 1})\n",
    "\n",
    "\n",
    "bt_all = backtest.backtest(\n",
    "    # bid=bid_close.dropna(),\n",
    "    bid_close='prices/bid.close',\n",
    "    ask_close='prices/ask.close',\n",
    "    stop_limit=None,\n",
    "    stop_loss=None,\n",
    "    portfolio=position,\n",
    "    # ask=ask_close.dropna(),\n",
    "    # portfolio=position.round(),\n",
    "    # portfolio=t.portfolio.intraday.rounded.position(),\n",
    "    dividends=None,\n",
    "    universe='im-assets',\n",
    "    provider='ig-trading',\n",
    "    name='intraday',\n",
    "    stage='rounded.position',\n",
    "    dry_run=True,\n",
    "    arctic=t,\n",
    "    start_date=pd.Timestamp(\"2020-01-01 00:00:00+00:00\"),\n",
    "    end_date=pd.Timestamp(\"2024-10-16 16:15:00+00:00\")\n",
    ")\n",
    "\n",
    "bt = bt_all['backtest/portfolio']\n",
    "\n",
    "(\n",
    "    bt['total_pnl']\n",
    "    .resample(pd.offsets.BDay(1))\n",
    "    .last()\n",
    "    .plot()\n",
    "    # .show()\n",
    ")\n",
    "\n",
    "data = pd.concat(\n",
    "    (\n",
    "        t.prices.mid.close(),\n",
    "        bt,\n",
    "        bt_all.droplevel(1, axis=1),\n",
    "        position.squeeze(),\n",
    "        all_signals.droplevel(1, axis=1),\n",
    "    ),\n",
    "    axis=1\n",
    ")\n",
    "\n",
    "\n",
    "# plot_multi(\n",
    "#     data.loc[slice(\"2017-12-02. 14:00:00\", \"2017-12-04\")].reset_index(),\n",
    "#     x='DateTime',\n",
    "#     y=[\n",
    "#         'position',\n",
    "#         # 'total_pnl',\n",
    "#         # 'signals/intraday_momentum',\n",
    "#         # 'mid_close',\n",
    "#         'unrealised_pnl',\n",
    "#         'signals/intraday_momentum.z_score',\n",
    "#     ],\n",
    "#     figsize=(16,7),\n",
    "#     # vline=0.01,\n",
    "# )\n",
    "\n",
    "# # data['net_exposure'].plot()\n",
    "\n",
    "# plt.axhline(1.0, c='black', linestyle='--')\n",
    "# plt.axhline(0.0, c='black', linestyle='--')\n",
    "# plt.axhline(2.0, c='black', linestyle='--')\n",
    "# plt.axvline(pd.Timestamp(\"2017-12-04 21:00:00\", tz=\"America/New_York\"))\n",
    "# data.loc[slice(\"2017-12-02. 14:00:00\", \"2017-12-04\")].reset_index()\n",
    "\n",
    "bt_all_ = bt_all.resample(pd.offsets.BDay(1)).last()\n",
    "\n",
    "t.prices.mid.close().loc[date][[\"CC.D.NG.UMP.IP\"]].plot()\n",
    "bt_all_[\"backtest/instrument.total_pnl\"].plot()\n",
    "bt_all_[\"backtest/portfolio\"]['total_pnl'].plot()\n",
    "\n",
    "bt_all_[\"backtest/instrument.net_position\"].rolling(25).max().plot()"
   ]
  },
  {
   "cell_type": "code",
   "execution_count": null,
   "id": "46419517-e25a-489c-bd8b-06d15e7104d7",
   "metadata": {},
   "outputs": [],
   "source": [
    "threshold = 1\n",
    "cap = 2\n",
    "# z_score = t.signals.intraday_momentum.z_score()\n",
    "                                                                                        \n",
    "signal = all_signals['signals/intraday_momentum']                                                       \n",
    "                                                                                    \n",
    "# apply caps and threshold                                                          \n",
    "#                                                                                   \n",
    "                                                                     \n",
    "\n",
    "signal.loc[\"2024-10-14\"].plot()#.show()\n",
    "signal.loc[\"2024-09-06\"].plot()#.show()\n",
    "signal.loc[\"2023-11-14\"].plot()#.show()"
   ]
  },
  {
   "cell_type": "code",
   "execution_count": null,
   "id": "b33b38a4-1eef-48be-963b-9567983ebf33",
   "metadata": {},
   "outputs": [],
   "source": [
    "signal = signal.where(signal.index.to_series().dt.date.eq(signal.index.to_series().dt.date.shift()), 0).where(np.sign(signal.shift()).eq(np.sign(signal)) , 0)\n",
    "signal.loc[\"2024-09-06\"].plot()\n",
    "signal.loc[\"2023-11-14\"].plot()"
   ]
  },
  {
   "cell_type": "code",
   "execution_count": null,
   "id": "328ab65e-0698-4896-9c53-13ef56094700",
   "metadata": {},
   "outputs": [],
   "source": [
    "date = slice(\"2021-12-15\", \"2021-12-20\")\n",
    "z_score = all_signals[\"signals/intraday_momentum.z_score\"]\n",
    "signal.loc[date].plot()\n",
    "z_score.loc[date].plot()\n"
   ]
  },
  {
   "cell_type": "code",
   "execution_count": null,
   "id": "af91e71c-eb77-483c-8b46-2fadc7fc5f24",
   "metadata": {},
   "outputs": [],
   "source": [
    "%pdb off\n",
    "t.prices.mid.close()\n",
    "signal\n",
    "t.prices.mid.close().loc[\"2017-01-08 14\"]\n",
    "signal.loc[\"2018-02-14\"]\n",
    "# t.prices.mid.close().loc[\"2017-02-14\"]\n",
    "all_signals[\"signals/intraday_momentum.z_score\"]"
   ]
  },
  {
   "cell_type": "code",
   "execution_count": null,
   "id": "039faba3-7edb-4ecd-841d-921c05b841e0",
   "metadata": {},
   "outputs": [],
   "source": [
    "\n",
    "signal = signal.where(\n",
    "   (\n",
    "      np.sign(signal.shift()).eq(np.sign(signal))\n",
    "      & signal.index.to_series().dt.date.eq(\n",
    "         signal.index.to_series().dt.date.shift()\n",
    "      )\n",
    "  ),\n",
    "   0,\n",
    ")\n",
    "\n",
    "signal.loc[\"2024-10-14\"].plot()\n"
   ]
  },
  {
   "cell_type": "code",
   "execution_count": null,
   "id": "72c652f5-98c5-4972-81b9-bd3bfe04906a",
   "metadata": {},
   "outputs": [],
   "source": [
    "def dynamic_floor(series, shift=0):                                                 \n",
    "    return series.groupby(series.index.date).transform(                             \n",
    "        lambda i: i.where(                                                          \n",
    "          ~functools.reduce(                                                      \n",
    "              operator.and_,                                                      \n",
    "             (                                                                   \n",
    "                (np.sign(i.shift(s)).ne(0) & np.sign(i.shift(s)).ne(np.sign(i)))\n",
    "                for s in range(1, shift)                                        \n",
    "             ),                                                                  \n",
    "           ),                                                                      \n",
    "          0,                                                                      \n",
    "        )                                                                              \n",
    "    )                                                                               \n",
    "                                                                                    \n",
    "signal = dynamic_floor(signal, 5)                                                   \n",
    "signal.loc[\"2024-10-14\"].plot()"
   ]
  },
  {
   "cell_type": "code",
   "execution_count": null,
   "id": "6c489f81-5879-4b56-9d57-da1a14ff703a",
   "metadata": {},
   "outputs": [],
   "source": [
    "\n",
    "(bt_all[\"backtest/portfolio\"][\"gross_exposure\"]).resample(pd.offsets.BDay(1)).last().dropna().plot()\n"
   ]
  },
  {
   "cell_type": "code",
   "execution_count": null,
   "id": "cfbf0c89-214b-4515-8d63-642e5bec5bbd",
   "metadata": {},
   "outputs": [],
   "source": [
    "t.prices.mid_close()"
   ]
  },
  {
   "cell_type": "code",
   "execution_count": null,
   "id": "2a270204-aa9a-49bf-b598-9992c0aa104f",
   "metadata": {},
   "outputs": [],
   "source": [
    "avg_spread = (0.5 - (t.prices.ask.close() - t.prices.bid.close()).resample(pd.offsets.BDay(1)).median().replace(0.0, np.nan).ffill().rolling(30).mean())\n",
    "np.sign(avg_spread.shift())"
   ]
  },
  {
   "cell_type": "code",
   "execution_count": null,
   "id": "2736ca3d-6cea-4bf6-8ec2-94eb48b4ab5a",
   "metadata": {},
   "outputs": [],
   "source": [
    "df = data.reindex(all_signals.index).resample(pd.offsets.BDay(1)).last().dropna(subset=[\"mid_close\", \"total_pnl\"])\n",
    "np.corrcoef(df[df['total_pnl']!=0]['total_pnl'].pct_change().dropna(),\n",
    "    df[df['total_pnl']!=0]['mid_close'].pct_change().dropna())"
   ]
  },
  {
   "cell_type": "code",
   "execution_count": null,
   "id": "e2ae9286-9a8a-4c24-bd19-9da00951201e",
   "metadata": {},
   "outputs": [],
   "source": [
    "data[(data.gross_exposure!=0) & (data.gross_exposure.notna())]"
   ]
  },
  {
   "cell_type": "code",
   "execution_count": null,
   "id": "9ea364f2-1919-400d-b857-2aafebb46eb9",
   "metadata": {},
   "outputs": [],
   "source": [
    "date = \"2017-04-05\"\n",
    "data[[\"mid_close\",\n",
    "\"unrealised_pnl\",\n",
    "\"position\",\n",
    "\"signals/intraday_momentum.z_score\",\n",
    "\"signals/intraday_momentum\"]].query(\"position!=0\").loc[date]"
   ]
  },
  {
   "cell_type": "code",
   "execution_count": null,
   "id": "43006812-2fe0-449d-8eb2-8982e72364b7",
   "metadata": {},
   "outputs": [],
   "source": [
    "all_signals['signals/intraday_momentum'].resample(pd.offsets.BDay(1)).min().reset_index().plot.scatter(x=\"DateTime\", y=\"IX.D.SPTRD.IFS.IP\")"
   ]
  },
  {
   "cell_type": "code",
   "execution_count": null,
   "id": "820f8a09-0b6e-46df-844b-7b64b65bf789",
   "metadata": {},
   "outputs": [],
   "source": [
    "all_signals[\"signals/intraday_momentum\"].loc[date]"
   ]
  },
  {
   "cell_type": "code",
   "execution_count": null,
   "id": "102ad2ac-c00f-4c96-aea5-52d6a8c50fc1",
   "metadata": {},
   "outputs": [],
   "source": [
    "import functools\n",
    "\n",
    "\n",
    "def dynamic_floor(z_score, shift=0):\n",
    "    return (\n",
    "        z_score\n",
    "        .groupby(z_score.index.date).transform(lambda i: i.where(~((i.notna() & np.sign(i.shift(shift))!=0)  & (np.sign(i.shift(shift)) != np.sign(i))), 0))\n",
    "    )\n",
    "\n",
    "z_score = all_signals[\"signals/intraday_momentum\"]\n",
    "\n",
    "\n",
    "for i in range(0, 1):\n",
    "    z_score = dynamic_floor(z_score, i)\n",
    "    z_score.loc[date].plot().show()\n",
    "\n"
   ]
  },
  {
   "cell_type": "code",
   "execution_count": null,
   "id": "8c24d8d0-1b70-4345-bb5b-bf5566e2915d",
   "metadata": {},
   "outputs": [],
   "source": [
    "print((bt.total_pnl.resample(pd.offsets.BDay(1)).last().diff()/50_000).std() * np.sqrt(252))\n",
    "(bt.total_pnl.resample(pd.offsets.BDay(1)).last().diff()/50_000).mean() * 252"
   ]
  },
  {
   "cell_type": "code",
   "execution_count": null,
   "id": "6ad440a2-ba8c-4b89-b4dd-5c3bad91e130",
   "metadata": {},
   "outputs": [],
   "source": [
    "z_score = all_signals[\"signals/intraday_momentum.z_score\"]\n",
    "z_score = z_score[z_score.squeeze()>0]\n",
    "signal = all_signals[\"signals/intraday_momentum\"]\n",
    "\n",
    "z_score.abs().groupby(z_score.tz_convert(\"America/New_York\").index.time).mean().plot()"
   ]
  },
  {
   "cell_type": "code",
   "execution_count": null,
   "id": "29e007d9-612a-4cfa-9a46-de04a5d90daf",
   "metadata": {},
   "outputs": [],
   "source": [
    "(0.05 * bt.query('net_exposure != 0').abs().net_exposure).plot.hist(bins=20)"
   ]
  },
  {
   "cell_type": "code",
   "execution_count": null,
   "id": "b31e063d-3398-4246-a1cf-da2f78514f9b",
   "metadata": {},
   "outputs": [],
   "source": [
    "def mean_reversion():\n",
    "    long_mean = close[close.index.time == time(20)].ewm(3).mean().squeeze().rename('long')\n",
    "    im_mean = close.ewm(6).mean().squeeze().rename('short')\n",
    "    mr = pd.concat((long_mean, im_mean), axis=1).ffill()\n",
    "    \n",
    "    signal = (mr.long - mr.short)/mr.short\n",
    "    signal = signal * 100\n",
    "    signal[signal.abs() < 1] = 0\n",
    "    signal[signal.abs() > 2] = 2\n",
    "\n",
    "    return signal.rename(close.columns[0]).to_frame()"
   ]
  },
  {
   "cell_type": "code",
   "execution_count": null,
   "id": "5f42a038-4020-4824-8ff8-d147bd324bfc",
   "metadata": {},
   "outputs": [],
   "source": [
    "print(analytics.sharpe_ratio(\n",
    "    # t.prices.mid.close().resample(pd.offsets.BDay(1)).last().pct_change()\n",
    "    bt.total_pnl.resample(pd.offsets.BDay(1)).last().diff()/4_000\n",
    "))\n",
    "print(analytics.sharpe_ratio(\n",
    "    t.prices.mid.close().squeeze().resample(pd.offsets.BDay(1)).last().pct_change()\n",
    "    # bt.total_pnl.resample(pd.offsets.BDay(1)).last().diff()/4_000\n",
    "))"
   ]
  },
  {
   "cell_type": "code",
   "execution_count": null,
   "id": "9c139993-bebb-4b74-9262-4c23dd24035d",
   "metadata": {},
   "outputs": [],
   "source": [
    "print(analytics.sharpe_ratio(bt.total_pnl.resample(pd.offsets.BDay(1)).last().diff()/4_000))\n",
    "print(analytics.omega_ratio(bt.total_pnl.resample(pd.offsets.BDay(1)).last().diff()/4_000))"
   ]
  },
  {
   "cell_type": "code",
   "execution_count": null,
   "id": "b6b77f12-ea20-4267-9faa-c1213aa8f82b",
   "metadata": {},
   "outputs": [],
   "source": [
    "date = \"2024-08-05\"\n",
    "bt_all[\"backtest/instrument.total_pnl\"].loc[date].diff().cumsum().plot()\n",
    "bt_all[\"backtest/instrument.net_position\"].loc[date].plot()\n",
    "all_signals[\"signals/intraday_momentum.z_score\"].loc[date].plot()\n",
    "all_signals[\"signals/intraday_momentum\"].loc[date].plot()\n",
    "# data[\"mid_close\"].loc[date].plot()"
   ]
  },
  {
   "cell_type": "code",
   "execution_count": null,
   "id": "867c214f-9334-43d1-8e3c-83f3c209f28a",
   "metadata": {},
   "outputs": [],
   "source": [
    "bt_all[\"backtest/instrument.total_pnl\"].squeeze().resample(pd.offsets.BDay(1)).last().diff().idxmin()"
   ]
  },
  {
   "cell_type": "code",
   "execution_count": null,
   "id": "9e24791c-f77f-4b9a-a9d5-0e318302cac3",
   "metadata": {},
   "outputs": [],
   "source": [
    "date = \"2018-10-14\"\n",
    "bt.total_pnl.resample(pd.offsets.BDay(1)).last() #.diff()\n",
    "bt.total_pnl.diff().loc[date].cumsum().plot().show()\n",
    "t.prices.mid.close().loc[date].plot().show()\n",
    "# bt.net_exposure.diff().loc[\"2024-09-04\"].cumsum().plot()\n",
    "bt_all[\"backtest/instrument.net_position\"].diff().loc[date].cumsum().plot()\n",
    "# bt.total_pnl.loc[\"2024-10-15\"].plot()\n",
    "\n",
    "\n"
   ]
  },
  {
   "cell_type": "code",
   "execution_count": null,
   "id": "d83baee0-0936-4201-a5e0-105a208aa21f",
   "metadata": {},
   "outputs": [],
   "source": [
    "bt_all['backtest/portfolio']"
   ]
  },
  {
   "cell_type": "code",
   "execution_count": null,
   "id": "e045444b-79a4-4e57-bd7c-1681c5398616",
   "metadata": {},
   "outputs": [],
   "source": [
    "bt.query('net_exposure.groupby(index.dt.date).cummax()!=0.0').total_pnl.resample(pd.offsets.BDay(1)).last().diff().plot.hist(bins=100)"
   ]
  },
  {
   "cell_type": "code",
   "execution_count": null,
   "id": "1f7764b6-c85d-4a52-9d24-68e87b738304",
   "metadata": {},
   "outputs": [],
   "source": [
    "bt.total_pnl.resample(pd.offsets.MonthEnd(1)).last().plot()"
   ]
  },
  {
   "cell_type": "code",
   "execution_count": null,
   "id": "a898c817-9bd4-490b-a909-226c304829c0",
   "metadata": {},
   "outputs": [],
   "source": [
    "t.signals.intraday_momentum().loc[\"2024-10\"].plot()"
   ]
  },
  {
   "cell_type": "code",
   "execution_count": null,
   "id": "9f43fdee-7842-4594-9392-e6d3b3878849",
   "metadata": {},
   "outputs": [],
   "source": [
    "bt.total_pnl.resample(pd.offsets.BDay(1)).last().diff().idxmax()"
   ]
  },
  {
   "cell_type": "code",
   "execution_count": null,
   "id": "cf35a04e-73a1-4d43-957e-fa4d369342aa",
   "metadata": {},
   "outputs": [],
   "source": [
    "# (t.backtest.intraday.rounded.position.portfolio().query(\"net_exposure.shift()!=0.0\").loc[\"2024-10-14\"].unrealised_pnl).plot()\n",
    "\n",
    "bt.total_pnl.loc[\"2024-04-04\"].diff().cumsum().plot()\n",
    "\n"
   ]
  },
  {
   "cell_type": "code",
   "execution_count": null,
   "id": "fd664dac-8b14-4593-9017-f9b066ce5b1d",
   "metadata": {},
   "outputs": [],
   "source": [
    "pf_tm1 = pf_lib.read(\"ig-trading.igtrading.intraday.rounded.position\", as_of=-2).data\n",
    "pf_t = pf_lib.read(\"ig-trading.igtrading.intraday.rounded.position\", as_of=-1).data"
   ]
  },
  {
   "cell_type": "code",
   "execution_count": null,
   "id": "a1f3d18a-7565-4ac0-8a34-05775e760ba3",
   "metadata": {},
   "outputs": [],
   "source": [
    "(pf_tm1.reindex(pf_t.index, method='ffill') - pf_t).iloc[-1:,:]"
   ]
  },
  {
   "cell_type": "code",
   "execution_count": null,
   "id": "ff3fe09a-3c08-4d40-8499-5da793c2e073",
   "metadata": {},
   "outputs": [],
   "source": [
    "t.trades.intraday.rounded.position()"
   ]
  },
  {
   "cell_type": "code",
   "execution_count": null,
   "id": "f9ed6fa9-44d7-4396-9752-66f88b782c79",
   "metadata": {},
   "outputs": [],
   "source": [
    "t.backtest.intraday.rounded.position.portfolio().total_pnl.resample(pd.offsets.BDay(1)).last().plot()"
   ]
  },
  {
   "cell_type": "code",
   "execution_count": null,
   "id": "b60405a7-41df-414f-b89b-6d53b43e5504",
   "metadata": {},
   "outputs": [],
   "source": [
    "signal = t.signals.intraday_momentum()"
   ]
  },
  {
   "cell_type": "code",
   "execution_count": null,
   "id": "431888a9-aa04-44aa-904f-e38796868117",
   "metadata": {},
   "outputs": [],
   "source": [
    "t.backtest.intraday.rounded.position.portfolio().total_pnl.loc[\"2024-10\"].plot()"
   ]
  },
  {
   "cell_type": "code",
   "execution_count": null,
   "id": "5595f309-bc0d-4881-b16b-53cc6665ff15",
   "metadata": {},
   "outputs": [],
   "source": [
    "signal = t.signals.intraday_momentum()\n",
    "prices = t.prices.mid.close().reindex(signal.index)\n",
    "\n",
    "previous_close = prices.groupby(prices.index.date).last().shift(1)\n",
    "previous_close.index = pd.to_datetime(previous_close.index).tz_localize('utc')\n",
    "previous_close = previous_close.reindex(prices.index, method='ffill')"
   ]
  },
  {
   "cell_type": "code",
   "execution_count": null,
   "id": "1ec6fd7b-fb8a-449b-bf48-198c19f9ba7d",
   "metadata": {},
   "outputs": [],
   "source": [
    "close_returns = (prices - previous_close)/previous_close\n",
    "\n",
    "data = pd.concat((close_returns.squeeze().rename('returns'), signal.squeeze().rename('signal')), axis=1)#\n",
    "data.plot.scatter(x='returns', y='signal')"
   ]
  },
  {
   "cell_type": "code",
   "execution_count": null,
   "id": "38382d8c-6c4b-434f-af88-2f0c8cd57d4e",
   "metadata": {},
   "outputs": [],
   "source": [
    "data.groupby(data.index.date).first().plot.scatter(x='returns', y='signal')"
   ]
  },
  {
   "cell_type": "code",
   "execution_count": null,
   "id": "55e4aa62-eb48-46bc-a7ea-5dd7d3f28e6e",
   "metadata": {},
   "outputs": [],
   "source": [
    "prices.resample(pd.offsets.BDay(1)).last().dropna().plot()"
   ]
  },
  {
   "cell_type": "code",
   "execution_count": null,
   "id": "a95092e4-c100-4eb5-9ab4-a15ef97b2ec0",
   "metadata": {},
   "outputs": [],
   "source": [
    "t.instruments.igtrading().transpose()"
   ]
  },
  {
   "cell_type": "code",
   "execution_count": null,
   "id": "cb94feeb-259f-4baf-985c-88cc2e176381",
   "metadata": {},
   "outputs": [],
   "source": [
    "from tradingo.sampling import get_ig_service"
   ]
  },
  {
   "cell_type": "code",
   "execution_count": null,
   "id": "65e3c228-fadf-43f0-a89a-868bbbac2796",
   "metadata": {},
   "outputs": [],
   "source": [
    "service = get_ig_service()"
   ]
  },
  {
   "cell_type": "code",
   "execution_count": null,
   "id": "39df1fda-d2a6-4298-964b-e2c7e80899a6",
   "metadata": {},
   "outputs": [],
   "source": [
    "t.signals.intraday_momentum.z_score.tail(200).plot()"
   ]
  },
  {
   "cell_type": "code",
   "execution_count": null,
   "id": "69180d3a-57e2-4db6-914e-a359388b04bc",
   "metadata": {},
   "outputs": [],
   "source": [
    "bt = t.backtest.intraday.rounded.position.portfolio()"
   ]
  },
  {
   "cell_type": "code",
   "execution_count": null,
   "id": "19c172b2-0f56-467f-b211-d165d6ad434f",
   "metadata": {},
   "outputs": [],
   "source": [
    "bt.total_pnl.resample(pd.offsets.BDay(1)).last().plot()"
   ]
  },
  {
   "cell_type": "code",
   "execution_count": null,
   "id": "1e82cec6-a190-44a9-b347-cbcbddfdfa50",
   "metadata": {},
   "outputs": [],
   "source": [
    "t.prices.mid.close().resample(pd.offsets.BDay(1)).last().plot()"
   ]
  },
  {
   "cell_type": "code",
   "execution_count": null,
   "id": "299eb172-2153-4b96-a49a-0b13db52c140",
   "metadata": {},
   "outputs": [],
   "source": [
    "bt = t.backtest.intraday.rounded.position.portfolio()"
   ]
  },
  {
   "cell_type": "code",
   "execution_count": null,
   "id": "0945b830-bb72-4ff8-86d9-28f8ef589fc2",
   "metadata": {},
   "outputs": [],
   "source": [
    "bt.total_pnl.diff().loc[\"2024-10-14\"].cumsum().plot()"
   ]
  },
  {
   "cell_type": "code",
   "execution_count": null,
   "id": "fe9f50f9-1b87-4ee5-a5d8-6774ff20c888",
   "metadata": {},
   "outputs": [],
   "source": [
    "daily_returns = bt.total_pnl.resample(pd.offsets.BDay(1)).last().diff()"
   ]
  },
  {
   "cell_type": "code",
   "execution_count": null,
   "id": "cc35fe21-527b-4c2e-a43c-7485952a268c",
   "metadata": {},
   "outputs": [],
   "source": [
    "(daily_returns.resample(pd.offsets.MonthEnd(1)).sum())"
   ]
  },
  {
   "cell_type": "code",
   "execution_count": null,
   "id": "0aedbaa7-31e4-48e7-90c6-82f429f55d22",
   "metadata": {},
   "outputs": [],
   "source": [
    "z_score = t.signals.intraday_momentum.z_score()\n",
    "short_vol = t.signals.intraday_momentum.short_vol()\n",
    "long_vol = t.signals.intraday_momentum.long_vol()\n",
    "previous_close_px = t.signals.intraday_momentum.previous_close_px()\n",
    "mid_close = t.prices.mid.close()"
   ]
  },
  {
   "cell_type": "code",
   "execution_count": null,
   "id": "aba770b3-d93e-4121-804f-70d9103a9322",
   "metadata": {},
   "outputs": [],
   "source": []
  },
  {
   "cell_type": "code",
   "execution_count": null,
   "id": "a8a7eac5-d257-4af0-a47d-394b49adf41a",
   "metadata": {},
   "outputs": [],
   "source": [
    "\n"
   ]
  },
  {
   "cell_type": "code",
   "execution_count": null,
   "id": "96d0aab6-9faf-4be4-b82f-02c480b75535",
   "metadata": {},
   "outputs": [],
   "source": [
    "data.reindex(z_score.index).loc[\"2017-12-04\"]"
   ]
  },
  {
   "cell_type": "code",
   "execution_count": null,
   "id": "83d3aa6f-3147-4dc0-b313-7145779eac85",
   "metadata": {},
   "outputs": [],
   "source": [
    "cal = pmc.get_calendar(\"NYSE\")\n",
    "schedule = cal.schedule(start_date=mid_close.index[0], end_date=mid_close.index[-1])\n",
    "trading_index = pmc.date_range(schedule, frequency=\"15min\").intersection(mid_close.index)\n",
    "mid_close = mid_close.reindex(trading_index)"
   ]
  },
  {
   "cell_type": "code",
   "execution_count": null,
   "id": "b85ee22e-8fea-4697-b327-607cabce8f2b",
   "metadata": {},
   "outputs": [],
   "source": [
    "mid_close.groupby(mid_close.index.date).last().loc[\"2023-09-11\"]"
   ]
  },
  {
   "cell_type": "code",
   "execution_count": null,
   "id": "66813d06-0b16-4791-8bd2-c7920a1e091b",
   "metadata": {},
   "outputs": [],
   "source": [
    "rounded_position = t.portfolio.intraday.rounded.position().resample(pd.offsets.BDay(1)).mean()"
   ]
  },
  {
   "cell_type": "code",
   "execution_count": null,
   "id": "bf9c5dbb-de4d-4d59-a73e-828ad1c96ba0",
   "metadata": {},
   "outputs": [],
   "source": [
    "backtest = t.backtest.intraday.rounded.position.portfolio()"
   ]
  },
  {
   "cell_type": "code",
   "execution_count": null,
   "id": "b3bed864-fe50-491f-b521-aff6d8b3b566",
   "metadata": {},
   "outputs": [],
   "source": [
    "backtest[backtest.net_exposure!=0]"
   ]
  }
 ],
 "metadata": {
  "kernelspec": {
   "display_name": "Python 3 (ipykernel)",
   "language": "python",
   "name": "python3"
  },
  "language_info": {
   "codemirror_mode": {
    "name": "ipython",
    "version": 3
   },
   "file_extension": ".py",
   "mimetype": "text/x-python",
   "name": "python",
   "nbconvert_exporter": "python",
   "pygments_lexer": "ipython3"
  }
 },
 "nbformat": 4,
 "nbformat_minor": 5
}
